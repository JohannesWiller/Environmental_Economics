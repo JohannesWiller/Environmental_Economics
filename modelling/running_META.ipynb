{
 "cells": [
  {
   "cell_type": "markdown",
   "metadata": {},
   "source": [
    "# Running META\n",
    "\n",
    "In this notebook, we are going to do the following things:\n",
    "\n",
    "1. Activate a Julia environment in our `adv_env_econ_24/modelling` folder\n",
    "2. Make sure that the right packages are installed\n",
    "3. Clone the META-2021 model into our local repository (because it is not available as a package)\n",
    "4. Make sure to run include the model with some weird tricks\n",
    "5. Build the full META model\n",
    "5. Explore the META model in an interactive window"
   ]
  },
  {
   "cell_type": "markdown",
   "metadata": {},
   "source": [
    "## 1. Activate Julia environment \"modelling\""
   ]
  },
  {
   "cell_type": "code",
   "execution_count": 1,
   "metadata": {},
   "outputs": [
    {
     "name": "stderr",
     "output_type": "stream",
     "text": [
      "\u001b[32m\u001b[1m  Activating\u001b[22m\u001b[39m project at `~/Desktop/Uni/adv_env_econ_24/modelling`\n"
     ]
    }
   ],
   "source": [
    "using Pkg\n",
    "Pkg.activate(\".\")"
   ]
  },
  {
   "cell_type": "markdown",
   "metadata": {},
   "source": [
    "## 2. Check which packages are installed in \"modelling\""
   ]
  },
  {
   "cell_type": "code",
   "execution_count": 2,
   "metadata": {},
   "outputs": [
    {
     "name": "stdout",
     "output_type": "stream",
     "text": [
      "\u001b[32m\u001b[1mStatus\u001b[22m\u001b[39m `~/Desktop/Uni/adv_env_econ_24/modelling/Project.toml`\n",
      "  \u001b[90m[336ed68f] \u001b[39mCSV v0.10.14\n",
      "  \u001b[90m[a93c6f00] \u001b[39mDataFrames v1.6.1\n",
      "  \u001b[90m[31c24e10] \u001b[39mDistributions v0.25.108\n",
      "  \u001b[90m[e4e893b0] \u001b[39mMimi v1.5.3\n",
      "  \u001b[90m[ab869bb0] \u001b[39mMimiDICE2016 v0.2.1-DEV `https://github.com/AlexandrePavlov/MimiDICE2016.jl#master`\n",
      "  \u001b[90m[f1883be1] \u001b[39mMimiDICE2016R2 v0.1.1-DEV `https://github.com/anthofflab/MimiDICE2016R2.jl#master`\n",
      "  \u001b[90m[76f85450] \u001b[39mLibGit2\n"
     ]
    }
   ],
   "source": [
    "Pkg.status()"
   ]
  },
  {
   "cell_type": "markdown",
   "metadata": {},
   "source": [
    "## 3. Clone the META-2021 model"
   ]
  },
  {
   "cell_type": "code",
   "execution_count": 3,
   "metadata": {},
   "outputs": [
    {
     "data": {
      "text/plain": [
       "LibGit2.GitRepo(\"/Users/johannesschonemann/Desktop/Uni/adv_env_econ_24/modelling/META-2021\")"
      ]
     },
     "metadata": {},
     "output_type": "display_data"
    }
   ],
   "source": [
    "using LibGit2\n",
    "LibGit2.clone(\"https://github.com/openmodels/META-2021.git\", \"META-2021\")"
   ]
  },
  {
   "cell_type": "markdown",
   "metadata": {},
   "source": [
    "## 4. Try to include the model"
   ]
  },
  {
   "cell_type": "markdown",
   "metadata": {},
   "source": [
    "With the META model as we clone it from Github, there are some problems concerning file paths. But there seems to be a way around it."
   ]
  },
  {
   "cell_type": "markdown",
   "metadata": {},
   "source": [
    "First, we try to change the directory to be within the `META-2021/src` folder and load the model from there. This will likely throw an error message, but don't worry."
   ]
  },
  {
   "cell_type": "code",
   "execution_count": 4,
   "metadata": {},
   "outputs": [
    {
     "ename": "SystemError",
     "evalue": "SystemError: opening file \"/Users/johannesschonemann/Desktop/Uni/adv_env_econ_24/src/MimiMETA.jl\": No such file or directory",
     "output_type": "error",
     "traceback": [
      "SystemError: opening file \"/Users/johannesschonemann/Desktop/Uni/adv_env_econ_24/src/MimiMETA.jl\": No such file or directory\n",
      "\n",
      "Stacktrace:\n",
      "  [1] systemerror(p::String, errno::Int32; extrainfo::Nothing)\n",
      "    @ Base ./error.jl:176\n",
      "  [2] systemerror\n",
      "    @ ./error.jl:175 [inlined]\n",
      "  [3] open(fname::String; lock::Bool, read::Nothing, write::Nothing, create::Nothing, truncate::Nothing, append::Nothing)\n",
      "    @ Base ./iostream.jl:293\n",
      "  [4] open\n",
      "    @ ./iostream.jl:275 [inlined]\n",
      "  [5] open(f::Base.var\"#433#434\"{String}, args::String; kwargs::@Kwargs{})\n",
      "    @ Base ./io.jl:394\n",
      "  [6] open\n",
      "    @ ./io.jl:393 [inlined]\n",
      "  [7] read\n",
      "    @ ./io.jl:486 [inlined]\n",
      "  [8] _include(mapexpr::Function, mod::Module, _path::String)\n",
      "    @ Base ./loading.jl:2132\n",
      "  [9] include(fname::String)\n",
      "    @ Base.MainInclude ./client.jl:489\n",
      " [10] top-level scope\n",
      "    @ ~/Desktop/Uni/adv_env_econ_24/modelling/running_META.ipynb:2"
     ]
    }
   ],
   "source": [
    "cd(\"./META-2021/src\") # change directory\n",
    "include(\"/src/MimiMETA.jl\")"
   ]
  },
  {
   "cell_type": "markdown",
   "metadata": {},
   "source": [
    "Now, let's try again from our current directory. This should magically work now."
   ]
  },
  {
   "cell_type": "code",
   "execution_count": 5,
   "metadata": {},
   "outputs": [
    {
     "data": {
      "text/plain": [
       "full_model (generic function with 1 method)"
      ]
     },
     "metadata": {},
     "output_type": "display_data"
    }
   ],
   "source": [
    "include(\"./META-2021/src/MimiMETA.jl\")"
   ]
  },
  {
   "cell_type": "markdown",
   "metadata": {},
   "source": [
    "## 5. Build the full META model"
   ]
  },
  {
   "cell_type": "code",
   "execution_count": 6,
   "metadata": {},
   "outputs": [],
   "source": [
    "model = full_model(rcp=\"RCP4.5\", ssp=\"SSP2\")\n",
    "run(model)"
   ]
  },
  {
   "cell_type": "markdown",
   "metadata": {},
   "source": [
    "## 6. Explore the results"
   ]
  },
  {
   "cell_type": "code",
   "execution_count": 7,
   "metadata": {},
   "outputs": [
    {
     "data": {
      "text/plain": [
       "Electron.Window(Application(Base.PipeEndpoint(RawFD(25) active, 0 bytes waiting), Process(setenv(`\u001b[4m/Users/johannesschonemann/.julia/artifacts/122059e6ad151fa185380cae2d5689c32d042de8/Julia.app/Contents/MacOS/Julia\u001b[24m \u001b[4m/Users/johannesschonemann/.julia/packages/Electron/LXyZ0/src/main.js\u001b[24m \u001b[4m/var/folders/4n/fsf6gsq96k7gkrkcs5x39mqm0000gn/T/jlel-b1b2185c031511ef1c610dfd55d39ccc\u001b[24m \u001b[4m/var/folders/4n/fsf6gsq96k7gkrkcs5x39mqm0000gn/T/jlel-sn-b1b23e4c031511ef23ec1314cf252c44\u001b[24m \u001b[4mJkFrf4U+AFtryY20/qI5LfcDL1mwmasolAKngTgzTfhk7uU24UA7zbgg0Nb/wqkdxgoiI0ceNWEg5AEVCEWxcsabGFrNFDitTgLYWHFkWYYOcWkVg5HMF51Bv1J3vUbU7ffWx+U5YvaipWBI9clqxTw1lWqcMLwce2rv0sqGorM=\u001b[24m`,[\"XPC_FLAGS=0x0\", \"COMMAND_MODE=unix2003\", \"CONDA_PROMPT_MODIFIER=(base) \", \"PATH=/opt/anaconda3/bin:/opt/anaconda3/condabin:/Library/Frameworks/Python.framework/Versions/3.7/bin:/Library/Frameworks/Python.framework/Versions/3.8/bin:/usr/local/bin:/usr/bin:/bin:/usr/sbin:/sbin:/opt/X11/bin\", \"PWD=/\", \"DISPLAY=/private/tmp/com.apple.launchd.uf7BLtXcFq/org.macosforge.xquartz:0\", \"VSCODE_CODE_CACHE_PATH=/Users/johannesschonemann/Library/Application Support/Code/CachedData/e170252f762678dec6ca2cc69aba1570769a5d39\", \"VSCODE_HANDLES_UNCAUGHT_ERRORS=true\", \"XPC_SERVICE_NAME=application.com.microsoft.VSCode.50552104.50552110\", \"VSCODE_NLS_CONFIG={\\\"locale\\\":\\\"de\\\",\\\"osLocale\\\":\\\"de-de\\\",\\\"availableLanguages\\\":{\\\"*\\\":\\\"de\\\"},\\\"_languagePackId\\\":\\\"121e60f7eb49057722468a4086636f8c.de\\\",\\\"_translationsConfigFile\\\":\\\"/Users/johannesschonemann/Library/Application Support/Code/clp/121e60f7eb49057722468a4086636f8c.de/tcf.json\\\",\\\"_cacheRoot\\\":\\\"/Users/johannesschonemann/Library/Application Support/Code/clp/121e60f7eb49057722468a4086636f8c.de\\\",\\\"_resolvedLanguagePackCoreLocation\\\":\\\"/Users/johannesschonemann/Library/Application Support/Code/clp/121e60f7eb49057722468a4086636f8c.de/e170252f762678dec6ca2cc69aba1570769a5d39\\\",\\\"_corruptedFile\\\":\\\"/Users/johannesschonemann/Library/Application Support/Code/clp/121e60f7eb49057722468a4086636f8c.de/corrupted.info\\\",\\\"_languagePackSupport\\\":true}\"  …  \"CONDA_DEFAULT_ENV=base\", \"OPENBLAS_DEFAULT_NUM_THREADS=1\", \"USER=johannesschonemann\", \"CONDA_SHLVL=1\", \"VSCODE_CRASH_REPORTER_PROCESS_TYPE=extensionHost\", \"CONDA_EXE=/opt/anaconda3/bin/conda\", \"HOME=/Users/johannesschonemann\", \"JULIA_NUM_THREADS=\", \"OPENBLAS_MAIN_FREE=1\", \"VSCODE_CWD=/\"]), ProcessRunning), [1 window]), 1, true, Channel{Any}(128))"
      ]
     },
     "metadata": {},
     "output_type": "display_data"
    }
   ],
   "source": [
    "explore(model)"
   ]
  }
 ],
 "metadata": {
  "kernelspec": {
   "display_name": "Julia 1.10.2",
   "language": "julia",
   "name": "julia-1.10"
  },
  "language_info": {
   "file_extension": ".jl",
   "mimetype": "application/julia",
   "name": "julia",
   "version": "1.10.2"
  }
 },
 "nbformat": 4,
 "nbformat_minor": 2
}
