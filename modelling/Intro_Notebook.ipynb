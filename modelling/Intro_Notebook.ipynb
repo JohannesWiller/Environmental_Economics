{
 "cells": [
  {
   "cell_type": "markdown",
   "metadata": {
    "vscode": {
     "languageId": "plaintext"
    }
   },
   "source": [
    "# Modelling in climate economics\n",
    "\n",
    "## First steps (continuing from [`README`](./README.md))"
   ]
  },
  {
   "cell_type": "markdown",
   "metadata": {},
   "source": [
    "### Helpful links for Julia and Mimi\n",
    "\n",
    "- [Mimi documentation](https://www.mimiframework.org/Mimi.jl/stable/)\n",
    "- [Installing Mimi](https://www.mimiframework.org/Mimi.jl/stable/tutorials/tutorial_1/#Tutorial-1:-Install-Mimi-1)\n",
    "- [Getting started with Julia in VS Code](https://www.julia-vscode.org/docs/dev/gettingstarted/)"
   ]
  },
  {
   "cell_type": "markdown",
   "metadata": {},
   "source": [
    "## 4. Testing your Julia installation"
   ]
  },
  {
   "cell_type": "markdown",
   "metadata": {},
   "source": [
    "Let's write a super simple two lines of code in Julia. This example will show you two things: first, whether your Julia extension works, and second, how code execution works within a Jupyter notebook."
   ]
  },
  {
   "cell_type": "code",
   "execution_count": 1,
   "metadata": {},
   "outputs": [
    {
     "name": "stdout",
     "output_type": "stream",
     "text": [
      "Hello world, how are you doing today?\n"
     ]
    }
   ],
   "source": [
    "my_message_to_the_world = \"Hello world, how are you doing today?\"\n",
    "println(my_message_to_the_world) # println prints the message to the console and starts a new line"
   ]
  },
  {
   "cell_type": "markdown",
   "metadata": {},
   "source": [
    "If everything worked correctly, it should look like this:  \n",
    "![Screenshot of the successfully executed Julia cell above](./screenshots/sucessful_cell_execution.png)"
   ]
  },
  {
   "cell_type": "markdown",
   "metadata": {},
   "source": [
    "Great, so Julia works within the notebook. Let's see if it also works in the terminal, which, as explained [here](./README.md#2-installing-vs-code), is directly integrated into VS Code, either in the bottom panel or in the right (secondary) side bar.\n",
    "\n",
    "Try typing the following into your terminal:\n",
    "```bash\n",
    "juliaup\n",
    "```\n",
    "This should result in output which says `The Julia Version Manager`. Next, you can start Julia from the terminal by typing\n",
    "```bash\n",
    "julia\n",
    "``` \n",
    "play around a little, and then leave again by typing \n",
    "```bash\n",
    "julia> exit()`\n",
    "```\n",
    "If this works without problems, you know that Julia also works on the rest of your computer, outside of this notebook."
   ]
  },
  {
   "cell_type": "markdown",
   "metadata": {},
   "source": [
    "That's it for now — congratulations! 🎉"
   ]
  }
 ],
 "metadata": {
  "kernelspec": {
   "display_name": "Julia 1.10.2",
   "language": "julia",
   "name": "julia-1.10"
  },
  "language_info": {
   "file_extension": ".jl",
   "mimetype": "application/julia",
   "name": "julia",
   "version": "1.10.2"
  }
 },
 "nbformat": 4,
 "nbformat_minor": 2
}
